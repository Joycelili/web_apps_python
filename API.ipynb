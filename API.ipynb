{
 "cells": [
  {
   "cell_type": "markdown",
   "metadata": {},
   "source": [
    "# API"
   ]
  },
  {
   "cell_type": "code",
   "execution_count": null,
   "metadata": {},
   "outputs": [],
   "source": [
    "from flask import Flask, request\n",
    "\n",
    "app=Flask(__name__)\n",
    "\n",
    "\n",
    "@app.route('/')\n",
    "def home():\n",
    "    return 'Hola mundo'\n",
    "\n",
    "\n",
    "@app.route('/suma/')\n",
    "def suma():\n",
    "    \n",
    "    n1=float(request.args.get('n1'))\n",
    "    n2=float(request.args.get('n2'))\n",
    "    \n",
    "    s=n1+n2\n",
    "    \n",
    "    return f'{s}'\n",
    "\n",
    "\n",
    "@app.route('/resta/')\n",
    "def resta():\n",
    "    \n",
    "    n1=float(request.args.get('n1'))\n",
    "    n2=float(request.args.get('n2'))\n",
    "    \n",
    "    r=n1-n2\n",
    "    \n",
    "    return f'{r}'\n",
    "\n",
    "\n",
    "@app.route('/json/')\n",
    "def json():\n",
    "    \n",
    "    n1=float(request.args.get('n1'))\n",
    "    n2=float(request.args.get('n2'))\n",
    "    \n",
    "    s=n1+n2\n",
    "    r=n1-n2\n",
    "    \n",
    "    return '[{\"suma\": {}, \"resta\": {}}]'.format(s, r)\n",
    "\n",
    "\n",
    "if __name__=='__main__':\n",
    "    app.run(debug=False)"
   ]
  },
  {
   "cell_type": "code",
   "execution_count": null,
   "metadata": {},
   "outputs": [],
   "source": []
  },
  {
   "cell_type": "code",
   "execution_count": null,
   "metadata": {},
   "outputs": [],
   "source": []
  },
  {
   "cell_type": "code",
   "execution_count": null,
   "metadata": {},
   "outputs": [],
   "source": []
  },
  {
   "cell_type": "code",
   "execution_count": null,
   "metadata": {},
   "outputs": [],
   "source": []
  }
 ],
 "metadata": {
  "kernelspec": {
   "display_name": "Python 3",
   "language": "python",
   "name": "python3"
  },
  "language_info": {
   "codemirror_mode": {
    "name": "ipython",
    "version": 3
   },
   "file_extension": ".py",
   "mimetype": "text/x-python",
   "name": "python",
   "nbconvert_exporter": "python",
   "pygments_lexer": "ipython3",
   "version": "3.7.6"
  }
 },
 "nbformat": 4,
 "nbformat_minor": 2
}
